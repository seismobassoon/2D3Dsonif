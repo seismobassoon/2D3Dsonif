{
 "cells": [
  {
   "cell_type": "markdown",
   "id": "e7d5d4e4-b05e-4ac0-826f-3370341f62fc",
   "metadata": {},
   "source": [
    "# Image to Sound Conversion Attempt 1 \n",
    "\n",
    "(Hesaneh)\n",
    "\n",
    "In this notebook, I tried to convert an image into sound. It reads the image line by line, converts it into an array, and then flattens it to create sound data. However, the output doesn't reflect the structure or details of the image in a meaningful way for sonification, as the sound is quite flat and not what I expected.\n",
    "\n",
    "The problem is that the code reads the image as a one-dimensional array, which may not capture enough of the image's complexity. \n"
   ]
  },
  {
   "cell_type": "code",
   "execution_count": 3,
   "id": "3a03e4b1-43bc-4166-af4d-2c6922461b2b",
   "metadata": {},
   "outputs": [],
   "source": [
    "import numpy as np\n",
    "from PIL import Image\n",
    "from scipy.io.wavfile import write\n",
    "import matplotlib.pyplot as plt\n",
    "\n",
    "def image_to_sound(image_path, output_path, sample_rate=44100):\n",
    "    image = Image.open(image_path).convert('L')  \n",
    "    image_array = np.array(image)\n",
    "    image_array = image_array / 255.0\n",
    "    \n",
    "\n",
    "    sound_data = image_array.flatten()\n",
    "    sound_data = sound_data * 2 - 1  \n",
    "    sound_data = (sound_data * 32767).astype(np.int16) \n",
    "\n",
    "    write(output_path, sample_rate, sound_data)\n",
    "\n",
    "jpeg_file = 'IMG_6098.jpeg' \n",
    "wav_file = 'image_sound.wav' \n",
    "\n",
    "image_to_sound(jpeg_file, wav_file)\n"
   ]
  },
  {
   "cell_type": "code",
   "execution_count": null,
   "id": "84528fbc-8095-43e9-8754-a1fa346da0d4",
   "metadata": {},
   "outputs": [],
   "source": []
  }
 ],
 "metadata": {
  "kernelspec": {
   "display_name": "Python 3 (ipykernel)",
   "language": "python",
   "name": "python3"
  },
  "language_info": {
   "codemirror_mode": {
    "name": "ipython",
    "version": 3
   },
   "file_extension": ".py",
   "mimetype": "text/x-python",
   "name": "python",
   "nbconvert_exporter": "python",
   "pygments_lexer": "ipython3",
   "version": "3.8.10"
  }
 },
 "nbformat": 4,
 "nbformat_minor": 5
}
